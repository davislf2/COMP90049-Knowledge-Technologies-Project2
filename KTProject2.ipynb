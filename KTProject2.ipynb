{
 "cells": [
  {
   "cell_type": "code",
   "execution_count": 11,
   "metadata": {
    "collapsed": false
   },
   "outputs": [
    {
     "name": "stderr",
     "output_type": "stream",
     "text": [
      "/Users/apple/anaconda/lib/python3.5/site-packages/sklearn/cross_validation.py:44: DeprecationWarning: This module was deprecated in version 0.18 in favor of the model_selection module into which all the refactored classes and functions are moved. Also note that the interface of the new CV iterators are different from that of this module. This module will be removed in 0.20.\n",
      "  \"This module will be removed in 0.20.\", DeprecationWarning)\n",
      "/Users/apple/anaconda/lib/python3.5/site-packages/sklearn/grid_search.py:43: DeprecationWarning: This module was deprecated in version 0.18 in favor of the model_selection module into which all the refactored classes and functions are moved. This module will be removed in 0.20.\n",
      "  DeprecationWarning)\n",
      "/Users/apple/anaconda/lib/python3.5/site-packages/sklearn/lda.py:6: DeprecationWarning: lda.LDA has been moved to discriminant_analysis.LinearDiscriminantAnalysis in 0.17 and will be removed in 0.19\n",
      "  \"in 0.17 and will be removed in 0.19\", DeprecationWarning)\n",
      "/Users/apple/anaconda/lib/python3.5/site-packages/sklearn/learning_curve.py:23: DeprecationWarning: This module was deprecated in version 0.18 in favor of the model_selection module into which all the functions are moved. This module will be removed in 0.20\n",
      "  DeprecationWarning)\n",
      "/Users/apple/anaconda/lib/python3.5/site-packages/sklearn/qda.py:6: DeprecationWarning: qda.QDA has been moved to discriminant_analysis.QuadraticDiscriminantAnalysis in 0.17 and will be removed in 0.19.\n",
      "  \"in 0.17 and will be removed in 0.19.\", DeprecationWarning)\n"
     ]
    }
   ],
   "source": [
    "import pandas as pd\n",
    "import numpy as np\n",
    "#import regex\n",
    "import re\n",
    "from sklearn.metrics import classification_report\n",
    "from sklearn import datasets\n",
    "from sklearn import *\n"
   ]
  },
  {
   "cell_type": "code",
   "execution_count": null,
   "metadata": {
    "collapsed": true
   },
   "outputs": [],
   "source": [
    "# def get_classifiers():\n",
    "#     return {\n",
    "#         'Nearest Neighbors': KNeighborsClassifier(),\n",
    "#         'Linear SVM': LinearSVC(),\n",
    "#         'RBF SVM': SVC(),\n",
    "#         'RBF SVM Weighted': SVC(class_weight='auto'),\n",
    "#         'LDA': LDA(),\n",
    "#         'Random Forest 10': RandomForestClassifier(10),\n",
    "#         'Random Forest 100': RandomForestClassifier(100),\n",
    "#         'Dummy Classifier Random': DummyClassifier(strategy='uniform'),\n",
    "#         'Dummy Classifier Weighted': DummyClassifier(strategy='stratified')\n",
    "#     }"
   ]
  },
  {
   "cell_type": "code",
   "execution_count": 45,
   "metadata": {
    "collapsed": false
   },
   "outputs": [],
   "source": [
    "# trainTweets = pd.read_csv(\"/Users/apple/Desktop/[New Folders]/Downloads/[Unimelb]/[2017 Sem1]/Knowledge Technology/Assignment/Project 2/2017S1-KTproj2-data/train-tweets.csv\")\n",
    "# trainTweets = csv.reader(open('/Users/apple/Desktop/[New Folders]/Downloads/[Unimelb]/[2017 Sem1]/Knowledge Technology/Assignment/Project 2/2017S1-KTproj2-data/train-tweets.txt', 'rb'), delimiter=' ', quotechar='|')\n",
    "\n",
    "# tweet = trainTweets[1]\n",
    "# tweet"
   ]
  },
  {
   "cell_type": "code",
   "execution_count": 21,
   "metadata": {
    "collapsed": false
   },
   "outputs": [],
   "source": [
    "# #start process_tweet\n",
    "# def processTweet(tweet):\n",
    "#     # process the tweets\n",
    "\n",
    "#     #Convert to lower case\n",
    "#     tweet = tweet.lower()\n",
    "#     #Convert www.* or https?://* to URL\n",
    "#     tweet = re.sub('((www\\.[^\\s]+)|(https?://[^\\s]+))','URL',tweet)\n",
    "#     #Convert @username to AT_USER\n",
    "#     tweet = re.sub('@[^\\s]+','AT_USER',tweet)\n",
    "#     #Remove additional white spaces\n",
    "#     tweet = re.sub('[\\s]+', ' ', tweet)\n",
    "#     #Replace #word with word\n",
    "#     tweet = re.sub(r'#([^\\s]+)', r'\\1', tweet)\n",
    "#     #trim\n",
    "#     tweet = tweet.strip('\\'\"')\n",
    "#     return tweet\n",
    "# #end\n",
    "\n",
    "# #Read the tweets one by one and process it\n",
    "# fp = open('data/sampleTweets.txt', 'r')\n",
    "# line = fp.readline()\n",
    "\n",
    "# while line:\n",
    "#     processedTweet = processTweet(line)\n",
    "#     print processedTweet\n",
    "#     line = fp.readline()\n",
    "# #end loop\n",
    "# fp.close()"
   ]
  },
  {
   "cell_type": "code",
   "execution_count": null,
   "metadata": {
    "collapsed": true
   },
   "outputs": [],
   "source": [
    "# #initialize stopWords\n",
    "# stopWords = []\n",
    "\n",
    "# #start replaceTwoOrMore\n",
    "# def replaceTwoOrMore(s):\n",
    "#     #look for 2 or more repetitions of character and replace with the character itself\n",
    "#     pattern = re.compile(r\"(.)\\1{1,}\", re.DOTALL)\n",
    "#     return pattern.sub(r\"\\1\\1\", s)\n",
    "# #end\n",
    "\n",
    "# #start getStopWordList\n",
    "# def getStopWordList(stopWordListFileName):\n",
    "#     #read the stopwords file and build a list\n",
    "#     stopWords = []\n",
    "#     stopWords.append('AT_USER')\n",
    "#     stopWords.append('URL')\n",
    "\n",
    "#     fp = open(stopWordListFileName, 'r')\n",
    "#     line = fp.readline()\n",
    "#     while line:\n",
    "#         word = line.strip()\n",
    "#         stopWords.append(word)\n",
    "#         line = fp.readline()\n",
    "#     fp.close()\n",
    "#     return stopWords\n",
    "# #end\n",
    "\n",
    "# #start getfeatureVector\n",
    "# def getFeatureVector(tweet):\n",
    "#     featureVector = []\n",
    "#     #split tweet into words\n",
    "#     words = tweet.split()\n",
    "#     for w in words:\n",
    "#         #replace two or more with two occurrences\n",
    "#         w = replaceTwoOrMore(w)\n",
    "#         #strip punctuation\n",
    "#         w = w.strip('\\'\"?,.')\n",
    "#         #check if the word stats with an alphabet\n",
    "#         val = re.search(r\"^[a-zA-Z][a-zA-Z0-9]*$\", w)\n",
    "#         #ignore if it is a stop word\n",
    "#         if(w in stopWords or val is None):\n",
    "#             continue\n",
    "#         else:\n",
    "#             featureVector.append(w.lower())\n",
    "#     return featureVector\n",
    "# #end\n",
    "\n",
    "# #Read the tweets one by one and process it\n",
    "# fp = open('data/sampleTweets.txt', 'r')\n",
    "# line = fp.readline()\n",
    "\n",
    "# st = open('data/feature_list/stopwords.txt', 'r')\n",
    "# stopWords = getStopWordList('data/feature_list/stopwords.txt')\n",
    "\n",
    "# while line:\n",
    "#     processedTweet = processTweet(line)\n",
    "#     featureVector = getFeatureVector(processedTweet)\n",
    "#     print featureVector\n",
    "#     line = fp.readline()\n",
    "# #end loop\n",
    "# fp.close()"
   ]
  },
  {
   "cell_type": "code",
   "execution_count": 94,
   "metadata": {
    "collapsed": false
   },
   "outputs": [],
   "source": [
    "# #Read the tweets one by one and process it\n",
    "# trainTweets = csv.reader(open('/Users/apple/Desktop/[New Folders]/Downloads/[Unimelb]/[2017 Sem1]/Knowledge Technology/Assignment/Project 2/2017S1-KTproj2-data/train-01.csv', 'rb'), delimiter=',', quotechar='|')\n",
    "# devTweets \n",
    "# tweets = []\n",
    "# for row in trainTweets:\n",
    "#     sentiment = row[47]\n",
    "#     tweet = row[1]\n",
    "#     processedTweet = processTweet(tweet)\n",
    "#     featureVector = getFeatureVector(processedTweet, stopWords)\n",
    "#     tweets.append((featureVector, sentiment));\n",
    "# #end loop\n"
   ]
  },
  {
   "cell_type": "markdown",
   "metadata": {},
   "source": [
    "## Start from here"
   ]
  },
  {
   "cell_type": "code",
   "execution_count": 230,
   "metadata": {
    "collapsed": false
   },
   "outputs": [],
   "source": [
    "trainData = pd.read_csv(\"/Users/apple/Desktop/[New Folders]/Downloads/[Unimelb]/[2017 Sem1]/Knowledge Technology/Assignment/Project 2/2017S1-KTproj2-data/train-02.csv\")\n",
    "devData = pd.read_csv(\"/Users/apple/Desktop/[New Folders]/Downloads/[Unimelb]/[2017 Sem1]/Knowledge Technology/Assignment/Project 2/2017S1-KTproj2-data/dev-01.csv\")\n",
    "testData = pd.read_csv(\"/Users/apple/Desktop/[New Folders]/Downloads/[Unimelb]/[2017 Sem1]/Knowledge Technology/Assignment/Project 2/2017S1-KTproj2-data/test-01.csv\")\n",
    "\n",
    "import numpy\n",
    "numpy.set_printoptions(threshold=50)\n",
    "\n",
    "# trainTweet = pd.read_csv(\"/Users/apple/Desktop/[New Folders]/Downloads/[Unimelb]/[2017 Sem1]/Knowledge Technology/Assignment/Project 2/2017S1-KTproj2-data/train-tweets.txt\", \n",
    "#                              sep='\\t', lineterminator='\\r')\n",
    "\n",
    "trainTweet = pd.read_csv(\"/Users/apple/Desktop/[New Folders]/Downloads/[Unimelb]/[2017 Sem1]/Knowledge Technology/Assignment/Project 2/2017S1-KTproj2-data/train-tweets-utf8.txt\")\n",
    "\n",
    "trainTweetString = trainTweet.to_string()\n",
    "# trainTweetString\n",
    "\n",
    "# import csv\n",
    "# with open('/Users/apple/Desktop/[New Folders]/Downloads/[Unimelb]/[2017 Sem1]/Knowledge Technology/Assignment/Project 2/2017S1-KTproj2-data/train-tweets.txt', 'r') as f:\n",
    "#     reader = csv.reader(f, dialect='excel', delimiter='\\t')\n",
    "#     for r in reader:     \n",
    "#         del r[0]\n",
    "# #     for row in reader:\n",
    "# #         print (row)\n",
    "# print(reader)\n"
   ]
  },
  {
   "cell_type": "code",
   "execution_count": 231,
   "metadata": {
    "collapsed": false
   },
   "outputs": [],
   "source": [
    "trainSentiment = trainData['sentiment']\n",
    "trainData.drop('id', axis = 1, inplace =True)\n",
    "trainData.drop('sentiment', axis = 1, inplace =True)\n",
    "devSentiment = devData['sentiment']\n",
    "devData.drop('id', axis = 1, inplace =True)\n",
    "devData.drop('sentiment', axis = 1, inplace =True)\n",
    "testSentiment = testData['sentiment']\n",
    "testData.drop('id', axis = 1, inplace =True)\n",
    "testData.drop('sentiment', axis = 1, inplace =True)\n",
    "\n",
    "trainDataList = trainData.values.tolist()\n",
    "trainSentimentList = trainSentiment.values.tolist()\n",
    "trainDataArray = np.array(trainData)\n",
    "trainSentimentArray = np.array(trainSentiment)"
   ]
  },
  {
   "cell_type": "code",
   "execution_count": 232,
   "metadata": {
    "collapsed": true
   },
   "outputs": [],
   "source": [
    "X = trainData\n",
    "Y = trainSentiment\n",
    "Z = devData\n",
    "W = devSentiment\n",
    "T = testData"
   ]
  },
  {
   "cell_type": "markdown",
   "metadata": {},
   "source": [
    "## Preprocessing"
   ]
  },
  {
   "cell_type": "code",
   "execution_count": 233,
   "metadata": {
    "collapsed": false
   },
   "outputs": [
    {
     "name": "stdout",
     "output_type": "stream",
     "text": [
      "6471 5059 5062 16592\n"
     ]
    }
   ],
   "source": [
    "trainCount = [0,0,0]\n",
    "for i in Y:\n",
    "    if i=='positive':\n",
    "        trainCount[0]+=1\n",
    "    elif i=='neutral':\n",
    "        trainCount[1]+=1\n",
    "    else:\n",
    "        trainCount[2]+=1\n",
    "print(trainCount[0],trainCount[1],trainCount[2],sum(trainCount))"
   ]
  },
  {
   "cell_type": "code",
   "execution_count": 235,
   "metadata": {
    "collapsed": false
   },
   "outputs": [
    {
     "data": {
      "image/png": "[encoded data removed]",
      "text/plain": [
       "<matplotlib.figure.Figure at 0x138286c18>"
      ]
     },
     "metadata": {},
     "output_type": "display_data"
    }
   ],
   "source": [
    "# corpus stat\n",
    "import matplotlib.pyplot as plt\n",
    " \n",
    "# Data to plot\n",
    "labels = 'Positive', 'Neutral', 'Negative'\n",
    "sizes = [trainCount[0],trainCount[1],trainCount[2]]\n",
    "colors = ['gold', 'yellowgreen', 'lightcoral'] #, 'lightskyblue']\n",
    "explode = (0.1, 0, 0)  # explode 1st slice\n",
    " \n",
    "# Plot\n",
    "plt.pie(sizes, explode=explode, labels=labels, colors=colors,\n",
    "        autopct='%1.1f%%', shadow=True, startangle=140)\n",
    " \n",
    "plt.axis('equal')\n",
    "plt.show()\n"
   ]
  },
  {
   "cell_type": "code",
   "execution_count": 57,
   "metadata": {
    "collapsed": false
   },
   "outputs": [
    {
     "data": {
      "text/plain": [
       "<46x44 sparse matrix of type '<class 'numpy.int64'>'\n",
       "\twith 44 stored elements in Compressed Sparse Row format>"
      ]
     },
     "execution_count": 57,
     "metadata": {},
     "output_type": "execute_result"
    }
   ],
   "source": [
    "from sklearn.feature_extraction.text import CountVectorizer\n",
    "vectorizer = CountVectorizer(min_df=1)\n",
    "ct = vectorizer.fit_transform(X)\n",
    "analyze = vectorizer.build_analyzer()\n",
    "ct"
   ]
  },
  {
   "cell_type": "code",
   "execution_count": 122,
   "metadata": {
    "collapsed": false
   },
   "outputs": [],
   "source": [
    "# from sklearn.feature_extraction.text import CountVectorizer\n",
    "# vectorizer = CountVectorizer(min_df=1)\n",
    "# ct = vectorizer.fit_transform(trainTweetString)\n"
   ]
  },
  {
   "cell_type": "code",
   "execution_count": 104,
   "metadata": {
    "collapsed": false
   },
   "outputs": [
    {
     "data": {
      "text/plain": [
       "['amazing',\n",
       " 'antman',\n",
       " 'are',\n",
       " 'at',\n",
       " 'awesome',\n",
       " 'best',\n",
       " 'birthday',\n",
       " 'cant',\n",
       " 'cream',\n",
       " 'day',\n",
       " 'death',\n",
       " 'drone',\n",
       " 'excited',\n",
       " 'fake',\n",
       " 'fuck',\n",
       " 'fucking',\n",
       " 'good',\n",
       " 'great',\n",
       " 'gucci',\n",
       " 'happy',\n",
       " 'hate',\n",
       " 'ice',\n",
       " 'im',\n",
       " 'is',\n",
       " 'leftists',\n",
       " 'liberals',\n",
       " 'love',\n",
       " 'my',\n",
       " 'national',\n",
       " 'nazi',\n",
       " 'night',\n",
       " 'not',\n",
       " 'obama',\n",
       " 'people',\n",
       " 'racist',\n",
       " 'see',\n",
       " 'shit',\n",
       " 'so',\n",
       " 'stupid',\n",
       " 'supremacists',\n",
       " 'th',\n",
       " 'they',\n",
       " 'tomorrow',\n",
       " 'trump']"
      ]
     },
     "execution_count": 104,
     "metadata": {},
     "output_type": "execute_result"
    }
   ],
   "source": [
    "vocab = vectorizer.get_feature_names() \n",
    "vocab"
   ]
  },
  {
   "cell_type": "code",
   "execution_count": 105,
   "metadata": {
    "collapsed": false
   },
   "outputs": [
    {
     "data": {
      "text/plain": [
       "{'amazing',\n",
       " 'antman',\n",
       " 'awesome',\n",
       " 'best',\n",
       " 'birthday',\n",
       " 'cant',\n",
       " 'cream',\n",
       " 'day',\n",
       " 'death',\n",
       " 'drone',\n",
       " 'excited',\n",
       " 'fake',\n",
       " 'fuck',\n",
       " 'fucking',\n",
       " 'good',\n",
       " 'great',\n",
       " 'gucci',\n",
       " 'happy',\n",
       " 'hate',\n",
       " 'ice',\n",
       " 'im',\n",
       " 'leftists',\n",
       " 'liberals',\n",
       " 'love',\n",
       " 'national',\n",
       " 'nazi',\n",
       " 'night',\n",
       " 'obama',\n",
       " 'people',\n",
       " 'racist',\n",
       " 'see',\n",
       " 'shit',\n",
       " 'stupid',\n",
       " 'supremacists',\n",
       " 'th',\n",
       " 'tomorrow',\n",
       " 'trump'}"
      ]
     },
     "execution_count": 105,
     "metadata": {},
     "output_type": "execute_result"
    }
   ],
   "source": [
    "from nltk.corpus import stopwords\n",
    "stop = set(stopwords.words('english'))\n",
    "vocabnostop = set(vocab)-stop\n",
    "vocabnostop"
   ]
  },
  {
   "cell_type": "code",
   "execution_count": 126,
   "metadata": {
    "collapsed": false
   },
   "outputs": [],
   "source": [
    "from textblob import TextBlob\n",
    "trainTweetCollection = ''.join(map(str, trainTweetString))\n",
    "trainTweetBlob = TextBlob(trainTweetCollection)\n",
    "# trainTweetBlob"
   ]
  },
  {
   "cell_type": "code",
   "execution_count": 125,
   "metadata": {
    "collapsed": false
   },
   "outputs": [],
   "source": [
    "# trainTweetBlob.tags"
   ]
  },
  {
   "cell_type": "code",
   "execution_count": 124,
   "metadata": {
    "collapsed": false
   },
   "outputs": [],
   "source": [
    "# trainTweetBlob.words"
   ]
  },
  {
   "cell_type": "code",
   "execution_count": 123,
   "metadata": {
    "collapsed": false
   },
   "outputs": [],
   "source": [
    "# trainTweetBlob.noun_phrases # doesn't work"
   ]
  },
  {
   "cell_type": "code",
   "execution_count": null,
   "metadata": {
    "collapsed": true
   },
   "outputs": [],
   "source": [
    "trainTweetBlob.ngrams(n=3)"
   ]
  },
  {
   "cell_type": "code",
   "execution_count": null,
   "metadata": {
    "collapsed": true
   },
   "outputs": [],
   "source": [
    "import numpy\n",
    "numpy.set_printoptions(threshold=30)\n"
   ]
  },
  {
   "cell_type": "code",
   "execution_count": 127,
   "metadata": {
    "collapsed": false
   },
   "outputs": [],
   "source": [
    "# from textblob import textblob.packages.nltk.corpus\n",
    "# corpus = corpus(trainTweetBlob)\n",
    "# stopwords = corpus.get_stopwords(std=2.5)\n",
    "# stopwords\n",
    "\n"
   ]
  },
  {
   "cell_type": "code",
   "execution_count": 128,
   "metadata": {
    "collapsed": false
   },
   "outputs": [],
   "source": [
    "from nltk.corpus import stopwords\n",
    "stop = set(stopwords.words('english'))\n",
    "# sentence = \"this is a foo bar sentence\"\n",
    "trainTweetBlobNoStop = set(trainTweetBlob.words) - stop\n",
    "# print [i for i in sentence.lower().split() if i not in stop]\n",
    "# trainTweetBlobNoStop"
   ]
  },
  {
   "cell_type": "code",
   "execution_count": 129,
   "metadata": {
    "collapsed": false
   },
   "outputs": [],
   "source": [
    "# import nltk\n",
    "# from nltk import word_tokenize\n",
    "# from nltk.util import ngrams\n",
    "# from collections import Counter\n",
    "\n",
    "# text = trainTweetBlobNoStop\n",
    "# token = nltk.word_tokenize(text)\n",
    "# bigrams = ngrams(token,2)\n",
    "# trigrams = ngrams(token,3)\n",
    "# fourgrams = ngrams(token,4)\n",
    "# fivegrams = ngrams(token,5)\n",
    "\n"
   ]
  },
  {
   "cell_type": "markdown",
   "metadata": {},
   "source": [
    "## NaiveBayes"
   ]
  },
  {
   "cell_type": "code",
   "execution_count": 236,
   "metadata": {
    "collapsed": false
   },
   "outputs": [
    {
     "name": "stdout",
     "output_type": "stream",
     "text": [
      "Number of correct points out of a total 4926 points : 2823 percentage : 0.573082\n"
     ]
    }
   ],
   "source": [
    "from sklearn.naive_bayes import GaussianNB\n",
    "clf = GaussianNB()\n",
    "d_pred = clf.fit(trainData, trainSentiment).predict(devData)\n",
    "# t_pred = clf.fit(trainData, trainSentiment).predict(testData)\n",
    "# text_file = open(\"testNB.txt\", \"w\")\n",
    "# for item in t_pred:\n",
    "#   text_file.write(\"%s\\n\" % item)\n",
    "# text_file.close()\n",
    "\n",
    "tot=devData.shape[0]\n",
    "pre=(devSentiment == d_pred).sum()\n",
    "per=pre/tot\n",
    "print(\"Number of correct points out of a total %d points : %d percentage : %f\" \n",
    "      % (devData.shape[0],(devSentiment == d_pred).sum(),per))"
   ]
  },
  {
   "cell_type": "code",
   "execution_count": 237,
   "metadata": {
    "collapsed": false
   },
   "outputs": [
    {
     "name": "stdout",
     "output_type": "stream",
     "text": [
      "             precision    recall  f1-score   support\n",
      "\n",
      "   positive       0.57      0.26      0.36      1038\n",
      "    neutral       0.58      0.74      0.65      2400\n",
      "   negative       0.56      0.52      0.54      1488\n",
      "\n",
      "avg / total       0.57      0.57      0.55      4926\n",
      "\n"
     ]
    }
   ],
   "source": [
    "y_true = devSentiment\n",
    "y_pred = d_pred\n",
    "target_names = ['positive', 'neutral', 'negative']\n",
    "print(classification_report(y_true, y_pred, target_names=target_names))"
   ]
  },
  {
   "cell_type": "code",
   "execution_count": null,
   "metadata": {
    "collapsed": true
   },
   "outputs": [],
   "source": []
  },
  {
   "cell_type": "markdown",
   "metadata": {},
   "source": [
    "## MultinomialNB"
   ]
  },
  {
   "cell_type": "code",
   "execution_count": 238,
   "metadata": {
    "collapsed": false
   },
   "outputs": [
    {
     "name": "stdout",
     "output_type": "stream",
     "text": [
      "Number of correct points out of a total 4926 points : 2119 percentage : 0.430166\n"
     ]
    }
   ],
   "source": [
    "from sklearn.naive_bayes import MultinomialNB\n",
    "clf = MultinomialNB(alpha=1.0, class_prior=None, fit_prior=True)\n",
    "d_pred=clf.fit(X, Y).predict(Z)\n",
    "# t_pred = clf.fit(X, Y).predict(Z)\n",
    "# text_file = open(\"testMNB.txt\", \"w\")\n",
    "# for item in t_pred:\n",
    "#   text_file.write(\"%s\\n\" % item)\n",
    "# text_file.close()\n",
    "\n",
    "tot=devData.shape[0]\n",
    "pre=(devSentiment == d_pred).sum()\n",
    "per=pre/tot\n",
    "print(\"Number of correct points out of a total %d points : %d percentage : %f\" \n",
    "      % (devData.shape[0],(devSentiment == d_pred).sum(),per))\n"
   ]
  },
  {
   "cell_type": "code",
   "execution_count": 239,
   "metadata": {
    "collapsed": false
   },
   "outputs": [
    {
     "name": "stdout",
     "output_type": "stream",
     "text": [
      "             precision    recall  f1-score   support\n",
      "\n",
      "   positive       0.43      0.46      0.44      1038\n",
      "    neutral       0.58      0.23      0.33      2400\n",
      "   negative       0.38      0.73      0.50      1488\n",
      "\n",
      "avg / total       0.49      0.43      0.41      4926\n",
      "\n"
     ]
    }
   ],
   "source": [
    "y_true = devSentiment\n",
    "y_pred = d_pred\n",
    "target_names = ['positive', 'neutral', 'negative']\n",
    "print(classification_report(y_true, y_pred, target_names=target_names))\n"
   ]
  },
  {
   "cell_type": "code",
   "execution_count": 89,
   "metadata": {
    "collapsed": false
   },
   "outputs": [
    {
     "name": "stdout",
     "output_type": "stream",
     "text": [
      "[[1, 2, 3]]\n",
      "[1, 2, 3]\n"
     ]
    }
   ],
   "source": [
    "# List test\n",
    "a = [[1,2,3],['a','b','c'],['x','xx','xxx'],['1a','1b','1c']]\n",
    "print(a[0:1])\n",
    "print(a[0])"
   ]
  },
  {
   "cell_type": "code",
   "execution_count": 136,
   "metadata": {
    "collapsed": false
   },
   "outputs": [],
   "source": [
    "# import numpy as np\n",
    "# from sklearn.model_selection import validation_curve\n",
    "# from sklearn.datasets import load_iris\n",
    "# from sklearn.linear_model import Ridge\n",
    "\n",
    "# np.random.seed(0)\n",
    "# # iris = load_iris()\n",
    "# # X, y = iris.data, iris.target\n",
    "# indices = np.arange(Y.shape[0])\n",
    "# np.random.shuffle(indices)\n",
    "# X, Y = X[indices], Y[indices]\n",
    "\n",
    "# train_scores, valid_scores = validation_curve(Ridge(), X, Y, \"alpha\",\n",
    "#                                               np.logspace(-7, 3, 3))\n",
    "# train_scores           \n",
    "\n",
    "# valid_scores           \n"
   ]
  },
  {
   "cell_type": "markdown",
   "metadata": {},
   "source": [
    "## DecisionTree"
   ]
  },
  {
   "cell_type": "code",
   "execution_count": null,
   "metadata": {
    "collapsed": true
   },
   "outputs": [],
   "source": [
    "X = trainData\n",
    "Y = trainSentiment\n",
    "Z = devData"
   ]
  },
  {
   "cell_type": "code",
   "execution_count": 240,
   "metadata": {
    "collapsed": false
   },
   "outputs": [
    {
     "name": "stdout",
     "output_type": "stream",
     "text": [
      "Number of mislabeled points out of a total 4926 points : 2418 percentage : 0.490865\n"
     ]
    }
   ],
   "source": [
    "from sklearn import tree\n",
    "clf = tree.DecisionTreeClassifier()\n",
    "clf = clf.fit(X,Y)\n",
    "d_pred=clf.predict(Z)\n",
    "# t_pred = clf.fit(X, Y).predict(Z)\n",
    "# text_file = open(\"testDT.txt\", \"w\")\n",
    "# for item in t_pred:\n",
    "#   text_file.write(\"%s\\n\" % item)\n",
    "# text_file.close()\n",
    "\n",
    "tot=devData.shape[0]\n",
    "pre=(devSentiment != d_pred).sum()\n",
    "per=pre/tot\n",
    "print(\"Number of mislabeled points out of a total %d points : %d percentage : %f\" \n",
    "      % (devData.shape[0],(devSentiment != d_pred).sum(),per))"
   ]
  },
  {
   "cell_type": "code",
   "execution_count": 241,
   "metadata": {
    "collapsed": false
   },
   "outputs": [
    {
     "name": "stdout",
     "output_type": "stream",
     "text": [
      "             precision    recall  f1-score   support\n",
      "\n",
      "   positive       0.38      0.45      0.41      1038\n",
      "    neutral       0.59      0.53      0.56      2400\n",
      "   negative       0.50      0.52      0.51      1488\n",
      "\n",
      "avg / total       0.52      0.51      0.51      4926\n",
      "\n"
     ]
    }
   ],
   "source": [
    "from sklearn.metrics import classification_report\n",
    "# y_true = [0, 1, 2, 2, 2]\n",
    "# y_pred = [0, 0, 2, 2, 1]\n",
    "# target_names = ['class 0', 'class 1', 'class 2']\n",
    "# print(classification_report(y_true, y_pred, target_names=target_names))\n",
    "y_true = devSentiment\n",
    "y_pred = d_pred\n",
    "target_names = ['positive', 'neutral', 'negative']\n",
    "print(classification_report(y_true, y_pred, target_names=target_names))\n"
   ]
  },
  {
   "cell_type": "markdown",
   "metadata": {},
   "source": [
    "## DecisionTreeDiagram"
   ]
  },
  {
   "cell_type": "code",
   "execution_count": 34,
   "metadata": {
    "collapsed": false
   },
   "outputs": [
    {
     "data": {
      "image/png": "[encoded data removed]",
      "text/plain": [
       "<IPython.core.display.Image object>"
      ]
     },
     "execution_count": 34,
     "metadata": {},
     "output_type": "execute_result"
    }
   ],
   "source": [
    "from sklearn.datasets import load_iris\n",
    "from sklearn import tree\n",
    "iris = load_iris()\n",
    "clf = tree.DecisionTreeClassifier()\n",
    "clf = clf.fit(iris.data, iris.target)\n",
    "import graphviz\n",
    "with open(\"iris.dot\", 'w') as f:\n",
    " f = tree.export_graphviz(clf, out_file=f)\n",
    "import os\n",
    "os.unlink('iris.dot')\n",
    "import pydotplus \n",
    "dot_data = tree.export_graphviz(clf, out_file=None) \n",
    "graph = pydotplus.graph_from_dot_data(dot_data) \n",
    "graph.write_pdf(\"iris.pdf\") \n",
    "from IPython.display import Image  \n",
    "dot_data = tree.export_graphviz(clf, out_file=None, \n",
    "                         feature_names=iris.feature_names,  \n",
    "                         class_names=iris.target_names,  \n",
    "                         filled=True, rounded=True,  \n",
    "                         special_characters=True)  \n",
    "graph = pydotplus.graph_from_dot_data(dot_data)  \n",
    "Image(graph.create_png())  \n"
   ]
  },
  {
   "cell_type": "code",
   "execution_count": 22,
   "metadata": {
    "collapsed": false
   },
   "outputs": [],
   "source": [
    "from sklearn.datasets import load_iris\n",
    "from sklearn import tree\n",
    "iris = load_iris()\n",
    "\n",
    "clf = tree.DecisionTreeClassifier()\n",
    "# clf = clf.fit(iris.data, iris.target)\n",
    "clf = clf.fit(trainData, trainSentiment)\n",
    "import graphviz\n",
    "with open(\"train.dot\", 'w') as f:\n",
    " f = tree.export_graphviz(clf, out_file=f)\n",
    "import os\n",
    "os.unlink('train.dot')\n"
   ]
  },
  {
   "cell_type": "code",
   "execution_count": 23,
   "metadata": {
    "collapsed": false
   },
   "outputs": [
    {
     "data": {
      "text/plain": [
       "True"
      ]
     },
     "execution_count": 23,
     "metadata": {},
     "output_type": "execute_result"
    }
   ],
   "source": [
    "import pydotplus \n",
    "dot_data = tree.export_graphviz(clf, out_file=None) \n",
    "graph = pydotplus.graph_from_dot_data(dot_data) \n",
    "graph.write_pdf(\"train.pdf\") \n"
   ]
  },
  {
   "cell_type": "code",
   "execution_count": 138,
   "metadata": {
    "collapsed": false
   },
   "outputs": [],
   "source": [
    "# from IPython.display import Image  \n",
    "# dot_data = tree.export_graphviz(clf, out_file=None, \n",
    "#                          feature_names=iris.feature_names,  \n",
    "#                          class_names=iris.target_names,  \n",
    "#                          filled=True, rounded=True,  \n",
    "#                          special_characters=True)  \n",
    "# graph = pydotplus.graph_from_dot_data(dot_data)  \n",
    "# Image(graph.create_png())  "
   ]
  },
  {
   "cell_type": "code",
   "execution_count": 35,
   "metadata": {
    "collapsed": false
   },
   "outputs": [
    {
     "data": {
      "text/plain": [
       "array([0])"
      ]
     },
     "execution_count": 35,
     "metadata": {},
     "output_type": "execute_result"
    }
   ],
   "source": [
    "clf.predict(iris.data[:1, :])"
   ]
  },
  {
   "cell_type": "code",
   "execution_count": 36,
   "metadata": {
    "collapsed": false
   },
   "outputs": [
    {
     "data": {
      "text/plain": [
       "array([[ 1.,  0.,  0.]])"
      ]
     },
     "execution_count": 36,
     "metadata": {},
     "output_type": "execute_result"
    }
   ],
   "source": [
    "clf.predict_proba(iris.data[:1, :])"
   ]
  },
  {
   "cell_type": "markdown",
   "metadata": {},
   "source": [
    "## Plot the decision surface of a decision tree"
   ]
  },
  {
   "cell_type": "code",
   "execution_count": 87,
   "metadata": {
    "collapsed": false
   },
   "outputs": [
    {
     "name": "stdout",
     "output_type": "stream",
     "text": [
      "[-1 -1 0 ..., -1 -1 0]\n",
      "22987\n",
      "22987\n"
     ]
    }
   ],
   "source": [
    "trainDataList = trainData.values.tolist()\n",
    "trainSentimentList = trainSentiment.values.tolist()\n",
    "trainDataArray = np.array(trainData)\n",
    "trainSentimentArray = np.array(trainSentiment)\n",
    "\n",
    "# templist = list(map(int,trainSentimentArray))\n",
    "\n",
    "templist = trainSentimentArray\n",
    "\n",
    "for i in range(len(templist)): \n",
    "    if templist[i] == 'positive':\n",
    "        templist[i]=1\n",
    "    if templist[i] == 'neutral':\n",
    "        templist[i]=0\n",
    "    else: \n",
    "        templist[i]=-1\n",
    "\n",
    "trainSentimentArray = templist\n",
    "# import matplotlib.pyplot as plt\n",
    "# plt.subplot(trainSentimentArray)\n",
    "import numpy\n",
    "# numpy.set_printoptions(threshold=numpy.nan)\n",
    "numpy.set_printoptions(threshold=50)\n",
    "print(trainSentimentArray)\n",
    "print(len(trainSentimentArray))\n",
    "print(len(trainDataArray))\n",
    "# list_of_strings = ['11','12','13']\n",
    "# list_of_int = list(map(int,list_of_strings))\n",
    "# list_of_int"
   ]
  },
  {
   "cell_type": "code",
   "execution_count": 91,
   "metadata": {
    "collapsed": false
   },
   "outputs": [
    {
     "name": "stdout",
     "output_type": "stream",
     "text": [
      "Automatically created module for IPython interactive environment\n"
     ]
    }
   ],
   "source": [
    "print(__doc__)\n",
    "\n",
    "import numpy as np\n",
    "import matplotlib.pyplot as plt\n",
    "\n",
    "from sklearn.datasets import load_iris\n",
    "from sklearn.tree import DecisionTreeClassifier\n",
    "\n",
    "# Parameters\n",
    "n_classes = 3\n",
    "plot_colors = \"bry\"\n",
    "plot_step = 0.02\n",
    "\n",
    "# Load data\n",
    "# iris = load_iris()\n",
    "\n",
    "for pairidx, pair in enumerate([[0, 1], [0, 2], [0, 3],\n",
    "                                [1, 2], [1, 3], [2, 3]]):\n",
    "    # We only take the two corresponding features\n",
    "#     X = iris.data[:, pair]\n",
    "#     y = iris.target\n",
    "\n",
    "    X = trainDataArray[:, pair]\n",
    "    Y = trainSentimentArray\n",
    "    \n",
    "    X\n",
    "#     # Train\n",
    "#     clf = DecisionTreeClassifier().fit(X, Y)\n",
    "\n",
    "#     # Plot the decision boundary\n",
    "#     plt.subplot(2, 3, pairidx + 1)\n",
    "\n",
    "#     x_min, x_max = X[:, 0].min() - 1, X[:, 0].max() + 1\n",
    "#     y_min, y_max = X[:, 1].min() - 1, X[:, 1].max() + 1\n",
    "#     xx, yy = np.meshgrid(np.arange(x_min, x_max, plot_step),\n",
    "#                          np.arange(y_min, y_max, plot_step))\n",
    "\n",
    "#     Z = clf.predict(np.c_[xx.ravel(), yy.ravel()])\n",
    "#     Z = Z.reshape(xx.shape)\n",
    "#     cs = plt.contourf(xx, yy, Z, cmap=plt.cm.Paired)\n",
    "\n",
    "#     plt.xlabel(train.feature_names[pair[0]])\n",
    "#     plt.ylabel(train.feature_names[pair[1]])\n",
    "#     plt.axis(\"tight\")\n",
    "\n",
    "#     # Plot the training points\n",
    "#     for i, color in zip(range(n_classes), plot_colors):\n",
    "#         idx = np.where(y == i)\n",
    "#         plt.scatter(X[idx, 0], X[idx, 1], c=color, label=train.target_names[i],\n",
    "#                     cmap=plt.cm.Paired)\n",
    "\n",
    "#     plt.axis(\"tight\")\n",
    "\n",
    "#     plt.suptitle(\"Decision surface of a decision tree using paired features\")\n",
    "#     plt.legend()\n",
    "#     plt.show()    "
   ]
  },
  {
   "cell_type": "markdown",
   "metadata": {},
   "source": [
    "## KNN"
   ]
  },
  {
   "cell_type": "code",
   "execution_count": 242,
   "metadata": {
    "collapsed": false
   },
   "outputs": [
    {
     "data": {
      "text/plain": [
       "KNeighborsClassifier(algorithm='auto', leaf_size=30, metric='minkowski',\n",
       "           metric_params=None, n_jobs=1, n_neighbors=3, p=2,\n",
       "           weights='uniform')"
      ]
     },
     "execution_count": 242,
     "metadata": {},
     "output_type": "execute_result"
    }
   ],
   "source": [
    "from sklearn.neighbors import KNeighborsClassifier\n",
    "neigh = KNeighborsClassifier(n_neighbors=3)\n",
    "neigh.fit(X, Y) \n",
    "# print(neigh.predict(Z))\n",
    "# print(neigh.predict_proba(Z))"
   ]
  },
  {
   "cell_type": "code",
   "execution_count": 243,
   "metadata": {
    "collapsed": false
   },
   "outputs": [
    {
     "name": "stdout",
     "output_type": "stream",
     "text": [
      "Number of mislabeled points out of a total 4926 points : 3371 percentage : 0.684328\n"
     ]
    }
   ],
   "source": [
    "d_pred=neigh.predict(Z)\n",
    "# t_pred = neigh.fit(X, Y).predict(Z)\n",
    "# text_file = open(\"testKNN.txt\", \"w\")\n",
    "# for item in t_pred:\n",
    "#   text_file.write(\"%s\\n\" % item)\n",
    "# text_file.close()\n",
    "\n",
    "tot=devData.shape[0]\n",
    "pre=(devSentiment != d_pred).sum()\n",
    "per=pre/tot\n",
    "print(\"Number of mislabeled points out of a total %d points : %d percentage : %f\" \n",
    "      % (devData.shape[0],(devSentiment != d_pred).sum(),per))"
   ]
  },
  {
   "cell_type": "code",
   "execution_count": 244,
   "metadata": {
    "collapsed": false
   },
   "outputs": [
    {
     "name": "stdout",
     "output_type": "stream",
     "text": [
      "             precision    recall  f1-score   support\n",
      "\n",
      "   positive       0.24      0.82      0.37      1038\n",
      "    neutral       0.47      0.14      0.22      2400\n",
      "   negative       0.61      0.24      0.35      1488\n",
      "\n",
      "avg / total       0.46      0.32      0.29      4926\n",
      "\n"
     ]
    }
   ],
   "source": [
    "from sklearn.metrics import classification_report\n",
    "# y_true = [0, 1, 2, 2, 2]\n",
    "# y_pred = [0, 0, 2, 2, 1]\n",
    "# target_names = ['class 0', 'class 1', 'class 2']\n",
    "# print(classification_report(y_true, y_pred, target_names=target_names))\n",
    "y_true = devSentiment\n",
    "y_pred = d_pred\n",
    "target_names = ['positive', 'neutral', 'negative']\n",
    "print(classification_report(y_true, y_pred, target_names=target_names))"
   ]
  },
  {
   "cell_type": "code",
   "execution_count": 212,
   "metadata": {
    "collapsed": true
   },
   "outputs": [],
   "source": [
    "from sklearn.ensemble import RandomForestClassifier\n",
    "from sklearn.metrics import classification_report\n",
    "k=1\n",
    "f1=[]\n",
    "for k in range(1,10):\n",
    "    clf = KNeighborsClassifier(n_neighbors=k)\n",
    "    clf.fit(X,Y)\n",
    "    d_pred=clf.predict(Z)\n",
    "    y_true = devSentiment\n",
    "    y_pred = d_pred\n",
    "    target_names = ['positive', 'neutral', 'negative']\n",
    "    f1.append(pd.DataFrame(report2dict(classification_report(y_true, y_pred, target_names=target_names)))['avg / total']['f1-score'])\n",
    "# print(pd.DataFrame(report2dict(classification_report(y_true, y_pred, target_names=target_names))))\n"
   ]
  },
  {
   "cell_type": "code",
   "execution_count": 213,
   "metadata": {
    "collapsed": false
   },
   "outputs": [
    {
     "data": {
      "text/plain": [
       "[0.48999999999999999,\n",
       " 0.39000000000000001,\n",
       " 0.40000000000000002,\n",
       " 0.41999999999999998,\n",
       " 0.5,\n",
       " 0.48999999999999999,\n",
       " 0.5,\n",
       " 0.48999999999999999,\n",
       " 0.48999999999999999]"
      ]
     },
     "execution_count": 213,
     "metadata": {},
     "output_type": "execute_result"
    }
   ],
   "source": [
    "f1"
   ]
  },
  {
   "cell_type": "markdown",
   "metadata": {},
   "source": [
    "## Random Forest"
   ]
  },
  {
   "cell_type": "code",
   "execution_count": 248,
   "metadata": {
    "collapsed": false
   },
   "outputs": [
    {
     "data": {
      "text/plain": [
       "RandomForestClassifier(bootstrap=True, class_weight=None, criterion='gini',\n",
       "            max_depth=None, max_features='auto', max_leaf_nodes=None,\n",
       "            min_impurity_split=1e-07, min_samples_leaf=1,\n",
       "            min_samples_split=2, min_weight_fraction_leaf=0.0,\n",
       "            n_estimators=10, n_jobs=1, oob_score=False, random_state=0,\n",
       "            verbose=0, warm_start=False)"
      ]
     },
     "execution_count": 248,
     "metadata": {},
     "output_type": "execute_result"
    }
   ],
   "source": [
    "from sklearn.ensemble import RandomForestClassifier\n",
    "# clf = RandomForestClassifier(n_jobs=1000)\n",
    "clf = RandomForestClassifier(n_estimators=10, max_depth=None,min_samples_split=2, random_state=0)\n",
    "\n",
    "# Train the classifier to take the training features and learn how they relate\n",
    "# to the training y (the species)\n",
    "clf.fit(X,Y)\n",
    "# print(clf.predict(Z))"
   ]
  },
  {
   "cell_type": "code",
   "execution_count": 249,
   "metadata": {
    "collapsed": false
   },
   "outputs": [
    {
     "name": "stdout",
     "output_type": "stream",
     "text": [
      "Number of mislabeled points out of a total 4926 points : 2355 percentage : 0.478076\n"
     ]
    }
   ],
   "source": [
    "d_pred=clf.predict(Z)\n",
    "t_pred = clf.fit(X, Y).predict(Z)\n",
    "# text_file = open(\"testRF.txt\", \"w\")\n",
    "# for item in t_pred:\n",
    "#   text_file.write(\"%s\\n\" % item)\n",
    "# text_file.close()\n",
    "\n",
    "tot=devData.shape[0]\n",
    "pre=(devSentiment != d_pred).sum()\n",
    "per=pre/tot\n",
    "print(\"Number of mislabeled points out of a total %d points : %d percentage : %f\" \n",
    "      % (devData.shape[0],(devSentiment != d_pred).sum(),per))"
   ]
  },
  {
   "cell_type": "code",
   "execution_count": 250,
   "metadata": {
    "collapsed": false
   },
   "outputs": [
    {
     "name": "stdout",
     "output_type": "stream",
     "text": [
      "             precision    recall  f1-score   support\n",
      "\n",
      "   positive       0.40      0.45      0.42      1038\n",
      "    neutral       0.60      0.52      0.56      2400\n",
      "   negative       0.51      0.57      0.53      1488\n",
      "\n",
      "avg / total       0.53      0.52      0.52      4926\n",
      "\n"
     ]
    }
   ],
   "source": [
    "from sklearn.metrics import classification_report\n",
    "# y_true = [0, 1, 2, 2, 2]\n",
    "# y_pred = [0, 0, 2, 2, 1]\n",
    "# target_names = ['class 0', 'class 1', 'class 2']\n",
    "# print(classification_report(y_true, y_pred, target_names=target_names))\n",
    "y_true = devSentiment\n",
    "y_pred = d_pred\n",
    "target_names = ['positive', 'neutral', 'negative']\n",
    "print(classification_report(y_true, y_pred, target_names=target_names))"
   ]
  },
  {
   "cell_type": "code",
   "execution_count": 181,
   "metadata": {
    "collapsed": true
   },
   "outputs": [],
   "source": [
    "from collections import defaultdict\n",
    "def report2dict(cr):\n",
    "    # Parse rows\n",
    "    tmp = list()\n",
    "    for row in cr.split(\"\\n\"):\n",
    "        parsed_row = [x for x in row.split(\"  \") if len(x) > 0]\n",
    "        if len(parsed_row) > 0:\n",
    "            tmp.append(parsed_row)\n",
    "    \n",
    "    # Store in dictionary\n",
    "    measures = tmp[0]\n",
    "\n",
    "    D_class_data = defaultdict(dict)\n",
    "    for row in tmp[1:]:\n",
    "        class_label = row[0]\n",
    "        for j, m in enumerate(measures):\n",
    "            D_class_data[class_label][m.strip()] = float(row[j + 1].strip())\n",
    "    return D_class_data"
   ]
  },
  {
   "cell_type": "code",
   "execution_count": 210,
   "metadata": {
    "collapsed": false
   },
   "outputs": [],
   "source": [
    "from sklearn.ensemble import RandomForestClassifier\n",
    "from sklearn.metrics import classification_report\n",
    "sp=1\n",
    "es=1\n",
    "f1=[]\n",
    "for es in range(1,11):\n",
    "    for sp in range(2,5):\n",
    "        clf = RandomForestClassifier(n_estimators=es, max_depth=None,min_samples_split=sp, random_state=0)\n",
    "        clf.fit(X,Y)\n",
    "        d_pred=clf.predict(Z)\n",
    "        y_true = devSentiment\n",
    "        y_pred = d_pred\n",
    "        target_names = ['positive', 'neutral', 'negative']\n",
    "        f1.append(pd.DataFrame(report2dict(classification_report(y_true, y_pred, target_names=target_names)))['avg / total']['f1-score'])\n",
    "# print(pd.DataFrame(report2dict(classification_report(y_true, y_pred, target_names=target_names))))\n"
   ]
  },
  {
   "cell_type": "code",
   "execution_count": 211,
   "metadata": {
    "collapsed": false
   },
   "outputs": [
    {
     "data": {
      "text/plain": [
       "<matplotlib.text.Text at 0x138096668>"
      ]
     },
     "execution_count": 211,
     "metadata": {},
     "output_type": "execute_result"
    }
   ],
   "source": [
    "x = range(1,31)\n",
    "plt.plot(x,f1) \n",
    "\n",
    "    # 設定圖的範圍, 不設的話，系統會自行決定\n",
    "plt.xlim(1,31)\n",
    "plt.ylim(0.5,0.55)\n",
    "    # 照需要寫入x 軸和y軸的 label 以及title\n",
    "\n",
    "plt.xlabel(\"x-axis\") \n",
    "plt.ylabel(\"y-axis\") \n",
    "plt.title(\"The Title\") "
   ]
  },
  {
   "cell_type": "code",
   "execution_count": 207,
   "metadata": {
    "collapsed": false
   },
   "outputs": [
    {
     "data": {
      "text/plain": [
       "[0.52000000000000002,\n",
       " 0.51000000000000001,\n",
       " 0.52000000000000002,\n",
       " 0.52000000000000002,\n",
       " 0.53000000000000003,\n",
       " 0.53000000000000003,\n",
       " 0.53000000000000003,\n",
       " 0.53000000000000003,\n",
       " 0.53000000000000003,\n",
       " 0.53000000000000003,\n",
       " 0.52000000000000002,\n",
       " 0.53000000000000003,\n",
       " 0.53000000000000003,\n",
       " 0.53000000000000003,\n",
       " 0.53000000000000003,\n",
       " 0.53000000000000003,\n",
       " 0.53000000000000003,\n",
       " 0.54000000000000004,\n",
       " 0.53000000000000003,\n",
       " 0.53000000000000003,\n",
       " 0.53000000000000003,\n",
       " 0.53000000000000003,\n",
       " 0.53000000000000003,\n",
       " 0.53000000000000003,\n",
       " 0.53000000000000003,\n",
       " 0.53000000000000003,\n",
       " 0.54000000000000004]"
      ]
     },
     "execution_count": 207,
     "metadata": {},
     "output_type": "execute_result"
    }
   ],
   "source": [
    "f1"
   ]
  },
  {
   "cell_type": "code",
   "execution_count": 186,
   "metadata": {
    "collapsed": false
   },
   "outputs": [
    {
     "name": "stdout",
     "output_type": "stream",
     "text": [
      "0.53\n"
     ]
    }
   ],
   "source": [
    "print(pd.DataFrame(report2dict(classification_report(y_true, y_pred, target_names=target_names)))['avg / total']['f1-score'])"
   ]
  },
  {
   "cell_type": "markdown",
   "metadata": {},
   "source": [
    "## SVM"
   ]
  },
  {
   "cell_type": "code",
   "execution_count": 251,
   "metadata": {
    "collapsed": false
   },
   "outputs": [
    {
     "data": {
      "text/plain": [
       "SVC(C=1.0, cache_size=200, class_weight=None, coef0=0.0,\n",
       "  decision_function_shape=None, degree=3, gamma='auto', kernel='linear',\n",
       "  max_iter=-1, probability=False, random_state=None, shrinking=True,\n",
       "  tol=0.001, verbose=False)"
      ]
     },
     "execution_count": 251,
     "metadata": {},
     "output_type": "execute_result"
    }
   ],
   "source": [
    "from sklearn import svm\n",
    "clf = svm.SVC(kernel='linear')\n",
    "clf.fit(X,Y)\n",
    "# print(clf.predict(Z))"
   ]
  },
  {
   "cell_type": "code",
   "execution_count": 252,
   "metadata": {
    "collapsed": false
   },
   "outputs": [
    {
     "name": "stdout",
     "output_type": "stream",
     "text": [
      "Number of mislabeled points out of a total 4926 points : 2162 percentage : 0.438896\n"
     ]
    }
   ],
   "source": [
    "d_pred=clf.predict(Z)\n",
    "# t_pred = clf.fit(X, Y).predict(Z)\n",
    "# text_file = open(\"testSVM.txt\", \"w\")\n",
    "# for item in t_pred:\n",
    "#   text_file.write(\"%s\\n\" % item)\n",
    "# text_file.close()\n",
    "\n",
    "tot=devData.shape[0]\n",
    "pre=(devSentiment != d_pred).sum()\n",
    "per=pre/tot\n",
    "print(\"Number of mislabeled points out of a total %d points : %d percentage : %f\" \n",
    "      % (devData.shape[0],(devSentiment != d_pred).sum(),per))"
   ]
  },
  {
   "cell_type": "code",
   "execution_count": 253,
   "metadata": {
    "collapsed": false,
    "scrolled": true
   },
   "outputs": [
    {
     "name": "stdout",
     "output_type": "stream",
     "text": [
      "             precision    recall  f1-score   support\n",
      "\n",
      "   positive       0.47      0.36      0.41      1038\n",
      "    neutral       0.58      0.67      0.62      2400\n",
      "   negative       0.57      0.52      0.54      1488\n",
      "\n",
      "avg / total       0.56      0.56      0.55      4926\n",
      "\n"
     ]
    }
   ],
   "source": [
    "from sklearn.metrics import classification_report\n",
    "# y_true = [0, 1, 2, 2, 2]\n",
    "# y_pred = [0, 0, 2, 2, 1]\n",
    "# target_names = ['class 0', 'class 1', 'class 2']\n",
    "# print(classification_report(y_true, y_pred, target_names=target_names))\n",
    "y_true = devSentiment\n",
    "y_pred = d_pred\n",
    "target_names = ['positive', 'neutral', 'negative']\n",
    "print(classification_report(y_true, y_pred, target_names=target_names))"
   ]
  },
  {
   "cell_type": "code",
   "execution_count": 215,
   "metadata": {
    "collapsed": false
   },
   "outputs": [
    {
     "name": "stdout",
     "output_type": "stream",
     "text": [
      "             precision    recall  f1-score   support\n",
      "\n",
      "   positive       0.64      0.18      0.28      1038\n",
      "    neutral       0.55      0.92      0.69      2400\n",
      "   negative       0.77      0.30      0.43      1488\n",
      "\n",
      "avg / total       0.63      0.58      0.52      4926\n",
      "\n"
     ]
    }
   ],
   "source": [
    "clf = svm.SVC(kernel='linear',C=0.1)\n",
    "clf.fit(X,Y)\n",
    "d_pred=clf.predict(Z)\n",
    "y_true = devSentiment\n",
    "y_pred = d_pred\n",
    "target_names = ['positive', 'neutral', 'negative']\n",
    "print(classification_report(y_true, y_pred, target_names=target_names))\n"
   ]
  },
  {
   "cell_type": "code",
   "execution_count": 219,
   "metadata": {
    "collapsed": false
   },
   "outputs": [
    {
     "data": {
      "text/plain": [
       "[0.52000000000000002,\n",
       " 0.53000000000000003,\n",
       " 0.53000000000000003,\n",
       " 0.53000000000000003,\n",
       " 0.53000000000000003,\n",
       " 0.53000000000000003,\n",
       " 0.53000000000000003,\n",
       " 0.53000000000000003,\n",
       " 0.53000000000000003,\n",
       " 0.53000000000000003]"
      ]
     },
     "execution_count": 219,
     "metadata": {},
     "output_type": "execute_result"
    }
   ],
   "source": [
    "from sklearn import svm\n",
    "from sklearn.metrics import classification_report\n",
    "k=1\n",
    "f1=[]\n",
    "\n",
    "for k in range(1,11):\n",
    "    clf = svm.SVC(kernel='linear',C=(k*0.1))\n",
    "    clf.fit(X,Y)\n",
    "    d_pred=clf.predict(Z)\n",
    "    y_true = devSentiment\n",
    "    y_pred = d_pred\n",
    "    target_names = ['positive', 'neutral', 'negative']\n",
    "    f1.append(pd.DataFrame(report2dict(classification_report(y_true, y_pred, target_names=target_names)))['avg / total']['f1-score'])\n",
    "\n",
    "f1"
   ]
  },
  {
   "cell_type": "code",
   "execution_count": 218,
   "metadata": {
    "collapsed": false
   },
   "outputs": [
    {
     "data": {
      "text/plain": [
       "1"
      ]
     },
     "execution_count": 218,
     "metadata": {},
     "output_type": "execute_result"
    }
   ],
   "source": [
    "k"
   ]
  },
  {
   "cell_type": "code",
   "execution_count": 51,
   "metadata": {
    "collapsed": false
   },
   "outputs": [
    {
     "data": {
      "text/plain": [
       "array(['negative', 'neutral', 'positive'], dtype=object)"
      ]
     },
     "execution_count": 51,
     "metadata": {},
     "output_type": "execute_result"
    }
   ],
   "source": [
    "import numpy as np\n",
    "from sklearn import datasets\n",
    "# iris = datasets.load_iris()\n",
    "# iris_X = iris.data\n",
    "# iris_y = iris.target\n",
    "# np.unique(iris_y)\n",
    "\n",
    "np.unique(Y)\n"
   ]
  },
  {
   "cell_type": "code",
   "execution_count": 151,
   "metadata": {
    "collapsed": false
   },
   "outputs": [],
   "source": [
    "# \"\"\"\n",
    "# ================================\n",
    "# SVM Exercise\n",
    "# ================================\n",
    "\n",
    "# A tutorial exercise for using different SVM kernels.\n",
    "\n",
    "# This exercise is used in the :ref:`using_kernels_tut` part of the\n",
    "# :ref:`supervised_learning_tut` section of the :ref:`stat_learn_tut_index`.\n",
    "# \"\"\"\n",
    "# print(__doc__)\n",
    "\n",
    "\n",
    "# import numpy as np\n",
    "# import matplotlib.pyplot as plt\n",
    "# from sklearn import datasets, svm\n",
    "\n",
    "# iris = datasets.load_iris()\n",
    "# # X = iris.data\n",
    "# # y = iris.target\n",
    "\n",
    "# X = trainData\n",
    "# y = trainSentiment\n",
    "\n",
    "# X = X[y != 0, :2]\n",
    "# y = y[y != 0]\n",
    "\n",
    "# n_sample = len(X)\n",
    "\n",
    "# np.random.seed(0)\n",
    "# order = np.random.permutation(n_sample)\n",
    "# X = X[order]\n",
    "# y = y[order].astype(np.float)\n",
    "\n",
    "# X_train = X[:.9 * n_sample]\n",
    "# y_train = y[:.9 * n_sample]\n",
    "# X_test = X[.9 * n_sample:]\n",
    "# y_test = y[.9 * n_sample:]\n",
    "\n",
    "# # fit the model\n",
    "# for fig_num, kernel in enumerate(('linear', 'rbf', 'poly')):\n",
    "#     clf = svm.SVC(kernel=kernel, gamma=10)\n",
    "#     clf.fit(X_train, y_train)\n",
    "\n",
    "#     plt.figure(fig_num)\n",
    "#     plt.clf()\n",
    "#     plt.scatter(X[:, 0], X[:, 1], c=y, zorder=10, cmap=plt.cm.Paired)\n",
    "\n",
    "#     # Circle out the test data\n",
    "#     plt.scatter(X_test[:, 0], X_test[:, 1], s=80, facecolors='none', zorder=10)\n",
    "\n",
    "#     plt.axis('tight')\n",
    "#     x_min = X[:, 0].min()\n",
    "#     x_max = X[:, 0].max()\n",
    "#     y_min = X[:, 1].min()\n",
    "#     y_max = X[:, 1].max()\n",
    "\n",
    "#     XX, YY = np.mgrid[x_min:x_max:200j, y_min:y_max:200j]\n",
    "#     Z = clf.decision_function(np.c_[XX.ravel(), YY.ravel()])\n",
    "\n",
    "#     # Put the result into a color plot\n",
    "#     Z = Z.reshape(XX.shape)\n",
    "#     plt.pcolormesh(XX, YY, Z > 0, cmap=plt.cm.Paired)\n",
    "#     plt.contour(XX, YY, Z, colors=['k', 'k', 'k'], linestyles=['--', '-', '--'],\n",
    "#                 levels=[-.5, 0, .5])\n",
    "\n",
    "#     plt.title(kernel)\n",
    "# plt.show()"
   ]
  },
  {
   "cell_type": "code",
   "execution_count": 152,
   "metadata": {
    "collapsed": false
   },
   "outputs": [],
   "source": [
    "# print(__doc__)\n",
    "\n",
    "\n",
    "# # Code source: Gaël Varoquaux\n",
    "# #              Andreas Müller\n",
    "# # Modified for documentation by Jaques Grobler\n",
    "# # License: BSD 3 clause\n",
    "\n",
    "# import numpy as np\n",
    "# import matplotlib.pyplot as plt\n",
    "# from matplotlib.colors import ListedColormap\n",
    "# from sklearn.model_selection import train_test_split\n",
    "# from sklearn.preprocessing import StandardScaler\n",
    "# from sklearn.datasets import make_moons, make_circles, make_classification\n",
    "# from sklearn.neural_network import MLPClassifier\n",
    "# from sklearn.neighbors import KNeighborsClassifier\n",
    "# from sklearn.svm import SVC\n",
    "# from sklearn.gaussian_process import GaussianProcessClassifier\n",
    "# from sklearn.gaussian_process.kernels import RBF\n",
    "# from sklearn.tree import DecisionTreeClassifier\n",
    "# from sklearn.ensemble import RandomForestClassifier, AdaBoostClassifier\n",
    "# from sklearn.naive_bayes import GaussianNB\n",
    "# from sklearn.discriminant_analysis import QuadraticDiscriminantAnalysis\n",
    "\n",
    "# h = .02  # step size in the mesh\n",
    "\n",
    "# names = [\"Nearest Neighbors\", \"Linear SVM\", \"RBF SVM\", \"Gaussian Process\",\n",
    "#          \"Decision Tree\", \"Random Forest\", \"Neural Net\", \"AdaBoost\",\n",
    "#          \"Naive Bayes\", \"QDA\"]\n",
    "\n",
    "# classifiers = [\n",
    "#     KNeighborsClassifier(3),\n",
    "#     SVC(kernel=\"linear\", C=0.025),\n",
    "#     SVC(gamma=2, C=1),\n",
    "#     GaussianProcessClassifier(1.0 * RBF(1.0), warm_start=True),\n",
    "#     DecisionTreeClassifier(max_depth=5),\n",
    "#     RandomForestClassifier(max_depth=5, n_estimators=10, max_features=1),\n",
    "#     MLPClassifier(alpha=1),\n",
    "#     AdaBoostClassifier(),\n",
    "#     GaussianNB(),\n",
    "#     QuadraticDiscriminantAnalysis()]\n",
    "\n",
    "# # X, y = make_classification(n_features=2, n_redundant=0, n_informative=2,\n",
    "# #                            random_state=1, n_clusters_per_class=1)\n",
    "# # rng = np.random.RandomState(2)\n",
    "# # X += 2 * rng.uniform(size=X.shape)\n",
    "# # linearly_separable = (X, y)\n",
    "\n",
    "# # datasets = [make_moons(noise=0.3, random_state=0),\n",
    "# #             make_circles(noise=0.2, factor=0.5, random_state=1),\n",
    "# #             linearly_separable\n",
    "# #             ]\n",
    "\n",
    "# X = trainData\n",
    "# y = trainSentiment\n",
    "\n",
    "# figure = plt.figure(figsize=(27, 9))\n",
    "# i = 1\n",
    "# # iterate over datasets\n",
    "# # for ds_cnt, ds in enumerate(datasets):\n",
    "# for ds_cnt, ds in enumerate(trainData):    \n",
    "#     # preprocess dataset, split into training and test part\n",
    "#     X, y = ds\n",
    "#     X = StandardScaler().fit_transform(X)\n",
    "#     X_train, X_test, y_train, y_test = \\\n",
    "#         train_test_split(X, y, test_size=.4, random_state=42)\n",
    "\n",
    "#     x_min, x_max = X[:, 0].min() - .5, X[:, 0].max() + .5\n",
    "#     y_min, y_max = X[:, 1].min() - .5, X[:, 1].max() + .5\n",
    "#     xx, yy = np.meshgrid(np.arange(x_min, x_max, h),\n",
    "#                          np.arange(y_min, y_max, h))\n",
    "\n",
    "#     # just plot the dataset first\n",
    "#     cm = plt.cm.RdBu\n",
    "#     cm_bright = ListedColormap(['#FF0000', '#0000FF'])\n",
    "#     ax = plt.subplot(len(datasets), len(classifiers) + 1, i)\n",
    "#     if ds_cnt == 0:\n",
    "#         ax.set_title(\"Input data\")\n",
    "#     # Plot the training points\n",
    "#     ax.scatter(X_train[:, 0], X_train[:, 1], c=y_train, cmap=cm_bright)\n",
    "#     # and testing points\n",
    "#     ax.scatter(X_test[:, 0], X_test[:, 1], c=y_test, cmap=cm_bright, alpha=0.6)\n",
    "#     ax.set_xlim(xx.min(), xx.max())\n",
    "#     ax.set_ylim(yy.min(), yy.max())\n",
    "#     ax.set_xticks(())\n",
    "#     ax.set_yticks(())\n",
    "#     i += 1\n",
    "\n",
    "#     # iterate over classifiers\n",
    "#     for name, clf in zip(names, classifiers):\n",
    "#         ax = plt.subplot(len(datasets), len(classifiers) + 1, i)\n",
    "#         clf.fit(X_train, y_train)\n",
    "#         score = clf.score(X_test, y_test)\n",
    "\n",
    "#         # Plot the decision boundary. For that, we will assign a color to each\n",
    "#         # point in the mesh [x_min, x_max]x[y_min, y_max].\n",
    "#         if hasattr(clf, \"decision_function\"):\n",
    "#             Z = clf.decision_function(np.c_[xx.ravel(), yy.ravel()])\n",
    "#         else:\n",
    "#             Z = clf.predict_proba(np.c_[xx.ravel(), yy.ravel()])[:, 1]\n",
    "\n",
    "#         # Put the result into a color plot\n",
    "#         Z = Z.reshape(xx.shape)\n",
    "#         ax.contourf(xx, yy, Z, cmap=cm, alpha=.8)\n",
    "\n",
    "#         # Plot also the training points\n",
    "#         ax.scatter(X_train[:, 0], X_train[:, 1], c=y_train, cmap=cm_bright)\n",
    "#         # and testing points\n",
    "#         ax.scatter(X_test[:, 0], X_test[:, 1], c=y_test, cmap=cm_bright,\n",
    "#                    alpha=0.6)\n",
    "\n",
    "#         ax.set_xlim(xx.min(), xx.max())\n",
    "#         ax.set_ylim(yy.min(), yy.max())\n",
    "#         ax.set_xticks(())\n",
    "#         ax.set_yticks(())\n",
    "#         if ds_cnt == 0:\n",
    "#             ax.set_title(name)\n",
    "#         ax.text(xx.max() - .3, yy.min() + .3, ('%.2f' % score).lstrip('0'),\n",
    "#                 size=15, horizontalalignment='right')\n",
    "#         i += 1\n",
    "\n",
    "# plt.tight_layout()\n",
    "# plt.show()"
   ]
  },
  {
   "cell_type": "code",
   "execution_count": 153,
   "metadata": {
    "collapsed": false
   },
   "outputs": [],
   "source": [
    "# import plotly\n",
    "# plotly.tools.set_credentials_file(username='DemoAccount', api_key='lr1c37zw81')\n",
    "\n",
    "# import plotly.plotly as py\n",
    "# import plotly.graph_objs as go\n",
    "# import pandas as pd\n",
    "\n",
    "\n",
    "# # Read data from a csv\n",
    "# # z_data = pd.read_csv('https://raw.githubusercontent.com/plotly/datasets/master/api_docs/mt_bruno_elevation.csv')\n",
    "# # z_data = trainData\n",
    "# z_data = devData\n",
    "\n",
    "# data = [\n",
    "#     go.Surface(\n",
    "#         z=z_data.as_matrix()\n",
    "#     )\n",
    "# ]\n",
    "# layout = go.Layout(\n",
    "#     title='Mt Bruno Elevation',\n",
    "#     autosize=False,\n",
    "#     width=500,\n",
    "#     height=500,\n",
    "#     margin=dict(\n",
    "#         l=65,\n",
    "#         r=50,\n",
    "#         b=65,\n",
    "#         t=90\n",
    "#     )\n",
    "# )\n",
    "# fig = go.Figure(data=data, layout=layout)\n",
    "# py.iplot(fig, filename='elevations-3d-surface')"
   ]
  },
  {
   "cell_type": "code",
   "execution_count": 154,
   "metadata": {
    "collapsed": false
   },
   "outputs": [],
   "source": [
    "# '''\n",
    "# ===========================\n",
    "# More triangular 3D surfaces\n",
    "# ===========================\n",
    "\n",
    "# Two additional examples of plotting surfaces with triangular mesh.\n",
    "\n",
    "# The first demonstrates use of plot_trisurf's triangles argument, and the\n",
    "# second sets a Triangulation object's mask and passes the object directly\n",
    "# to plot_trisurf.\n",
    "# '''\n",
    "\n",
    "# import numpy as np\n",
    "# import matplotlib.pyplot as plt\n",
    "# from mpl_toolkits.mplot3d import Axes3D\n",
    "# import matplotlib.tri as mtri\n",
    "\n",
    "\n",
    "# fig = plt.figure(figsize=plt.figaspect(0.5))\n",
    "\n",
    "# #============\n",
    "# # First plot\n",
    "# #============\n",
    "\n",
    "# # Make a mesh in the space of parameterisation variables u and v\n",
    "# u = np.linspace(0, 2.0 * np.pi, endpoint=True, num=50)\n",
    "# v = np.linspace(-0.5, 0.5, endpoint=True, num=10)\n",
    "# u, v = np.meshgrid(u, v)\n",
    "# u, v = u.flatten(), v.flatten()\n",
    "\n",
    "# # This is the Mobius mapping, taking a u, v pair and returning an x, y, z\n",
    "# # triple\n",
    "# x = (1 + 0.5 * v * np.cos(u / 2.0)) * np.cos(u)\n",
    "# y = (1 + 0.5 * v * np.cos(u / 2.0)) * np.sin(u)\n",
    "# z = 0.5 * v * np.sin(u / 2.0)\n",
    "\n",
    "# # Triangulate parameter space to determine the triangles\n",
    "# tri = mtri.Triangulation(u, v)\n",
    "\n",
    "# # Plot the surface.  The triangles in parameter space determine which x, y, z\n",
    "# # points are connected by an edge.\n",
    "# ax = fig.add_subplot(1, 2, 1, projection='3d')\n",
    "# ax.plot_trisurf(x, y, z, triangles=tri.triangles, cmap=plt.cm.Spectral)\n",
    "# ax.set_zlim(-1, 1)\n",
    "\n",
    "\n",
    "# #============\n",
    "# # Second plot\n",
    "# #============\n",
    "\n",
    "# # Make parameter spaces radii and angles.\n",
    "# n_angles = 36\n",
    "# n_radii = 8\n",
    "# min_radius = 0.25\n",
    "# radii = np.linspace(min_radius, 0.95, n_radii)\n",
    "\n",
    "# angles = np.linspace(0, 2*np.pi, n_angles, endpoint=False)\n",
    "# angles = np.repeat(angles[..., np.newaxis], n_radii, axis=1)\n",
    "# angles[:, 1::2] += np.pi/n_angles\n",
    "\n",
    "# # Map radius, angle pairs to x, y, z points.\n",
    "# x = (radii*np.cos(angles)).flatten()\n",
    "# y = (radii*np.sin(angles)).flatten()\n",
    "# z = (np.cos(radii)*np.cos(angles*3.0)).flatten()\n",
    "\n",
    "# # Create the Triangulation; no triangles so Delaunay triangulation created.\n",
    "# triang = mtri.Triangulation(x, y)\n",
    "\n",
    "# # Mask off unwanted triangles.\n",
    "# xmid = x[triang.triangles].mean(axis=1)\n",
    "# ymid = y[triang.triangles].mean(axis=1)\n",
    "# mask = np.where(xmid**2 + ymid**2 < min_radius**2, 1, 0)\n",
    "# triang.set_mask(mask)\n",
    "\n",
    "# # Plot the surface.\n",
    "# ax = fig.add_subplot(1, 2, 2, projection='3d')\n",
    "# ax.plot_trisurf(triang, z, cmap=plt.cm.CMRmap)\n",
    "\n",
    "\n",
    "# plt.show()\n"
   ]
  },
  {
   "cell_type": "code",
   "execution_count": null,
   "metadata": {
    "collapsed": true
   },
   "outputs": [],
   "source": []
  }
 ],
 "metadata": {
  "kernelspec": {
   "display_name": "Python [Root]",
   "language": "python",
   "name": "Python [Root]"
  },
  "language_info": {
   "codemirror_mode": {
    "name": "ipython",
    "version": 3
   },
   "file_extension": ".py",
   "mimetype": "text/x-python",
   "name": "python",
   "nbconvert_exporter": "python",
   "pygments_lexer": "ipython3",
   "version": "3.5.2"
  }
 },
 "nbformat": 4,
 "nbformat_minor": 2
}
